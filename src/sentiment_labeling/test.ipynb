{
 "cells": [
  {
   "cell_type": "code",
   "execution_count": null,
   "metadata": {
    "collapsed": true,
    "pycharm": {
     "is_executing": true
    }
   },
   "outputs": [],
   "source": [
    "# https://newspaper.readthedocs.io/en/latest/\n",
    "from newspaper import Article\n",
    "\n",
    "url = 'https://www.jutarnji.hr/vijesti/svijet/na-najvecem-privatnom-kruzeru-na-svijetu-upravo-plovi-150-hiperbogatasa-odvjetnik-je-otkrio-sto-se-tamo-dogada-15432052'\n",
    "article = Article(url, language='hr')\n",
    "article.download()\n",
    "article.parse()"
   ]
  },
  {
   "cell_type": "code",
   "execution_count": 2,
   "outputs": [
    {
     "data": {
      "text/plain": "datetime.datetime(2024, 2, 25, 12, 20)"
     },
     "execution_count": 2,
     "metadata": {},
     "output_type": "execute_result"
    }
   ],
   "source": [
    "article.publish_date"
   ],
   "metadata": {
    "collapsed": false
   }
  },
  {
   "cell_type": "code",
   "execution_count": 3,
   "outputs": [
    {
     "data": {
      "text/plain": "'Na najvećem privatnom kruzeru na svijetu upravo plovi 150 hiperbogataša: Odvjetnik je otkrio što se tamo događa'"
     },
     "execution_count": 3,
     "metadata": {},
     "output_type": "execute_result"
    }
   ],
   "source": [
    "article.title"
   ],
   "metadata": {
    "collapsed": false
   }
  },
  {
   "cell_type": "code",
   "execution_count": 7,
   "outputs": [
    {
     "data": {
      "text/plain": "'Kada se radi o kupnji novog doma, za mnoge je lokacija na prvome mjestu. Oni koji pripadaju među jedan posto najbogatijih na svijetu taj problem mogu jednostavno riješiti tako što odluče živjeti na brodu koji putuje svijetom. Najveći privatni rezidencijalni kruzer na svijetu, The World, konstantno je u pokretu, kruži morima i oceanima i vrijeme provodi u najegzotičnijim i najpoznatijim lukama. The World je najveća rezidencijalna jahta u privatnom vlasništvu sa 165 luksuznih apartmana, dugačka čak 196 metara. Svakih nekoliko dana njezinih 150 stanovnika bude se u novome mjestu na drugom kraju svijeta. Neki od vlasnika luksuznih stanova žive na brodu tijekom cijele godine, dok ga drugi samo povremeno posjećuju.Jedan od njih bio je Peter Antonucci, koji je stanovnik privatnog kruzera postao početkom 2014. godine. Antonucci, koji je tada imao 52 godine i uživao je u pogodnostima prijevremene mirovine, bio je zaintrigiran njegovim konceptom. On i supruga rezervirali su probno putovanje i zaplovili Panamskim kanalom. Putovanje im se toliko svidjelo da su ubrzo postali stalni rezidenti.‘Smiješno skupo‘\"Kada sam prvi put došao na brod, mislio sam da je sve smiješno skupo. Nisam mogao vjerovati da stanovi toliko koštaju. Nisam mogao vjerovati da su troškovi održavanja toliko visoki i nisam mogao zamisliti zašto bi itko to radio. Ali već drugi dan sam pitao: ‘Koliko stanova imate na raspolaganju i kada se mogu prijaviti?‘\", prisjetio se Antonucci za CNN.Antonucci kaže da ga je zaveo svaki aspekt privatnog kruzera - od posade, koju naziva \"najvećom vrijednošću broda\" zahvaljujući njihovoj sposobnosti da predvide potrebe stanovnika, do u detalje isplaniranog itinerera putovanja. Osim toga, Antonucci je bio posebno oduševljen što su ga tadašnji stanovnici broda iznimno srdačno prihvatili, nudili mu piće i ugodne razgovore. Tek je kasnije saznao da je i to dio dobro upakirane ponude. Naime, prije nego što se na brod ukrca novi potencijalni stanovnik, svi stanari prime e-mail s biografijom potencijalnog stanara. Na taj način mogu odmah vidjeti imaju li nešto zajedničko s njim te mu ponuditi piće ili partiju tenisa jednom kad se upoznaju. Antonucci je tek kasnije saznao za taj aspekt, ali je do tada već u potpunosti bio očaran cijelim paket-aranžmanom.Antonucci je umirovljeni odvjetnik koji je posjedovao četiri stana tijekom svojih pet godina na brodu. Ne može se sjetiti točnih iznosa, ali vjeruje da je svoj prvi stan na brodu kupio za oko 1,6 milijuna dolara. Kao i kod svake druge vrste vlasništva, stanari broda mogu slobodno urediti svoje stanove kako žele. Danas se cijene apartmana, koji variraju od jednosobnih studija do prostranih trosobnih stanova, kreću od dva do 15 milijuna dolara. Antonucci je svoje stanove prodao 2019., nakon što je nekoliko puta oplovio svijet i vidio sve što je želio vidjeti. Nakon toga je napisao tri romana, čija je radnja smještena na izmišljeni brod inspiriran kruzerom The World i svim tajnim zabavama i skandalima koji su se na njemu odvijali.Kao ‘White Lotus‘\"Ne kažem da se sve što se dogodilo u seriji ‘Bijeli lotos‘ dogodilo i na The Worldu, ali mislim da, u velikoj mjeri, usporedba nije netočna. Ima mnogo bogatih ljudi koji čine razigrane stvari, ponekad zločeste, a ponekad i skandalozne\", rekao je Antonucci.Zabava na brodu također je uključena u paket usluga i uključuje predavanja stručnjaka i organizirane aktivnosti kao što su ronjenje i planinarenje. Djeca su dobrodošla na brodu, ali mnoge ponude su namijenjene odraslima, poput teniskog terena, spa centra i koktel lože. \"Puno se pije, puno se tulumari, što može dovesti do skandala i tajni\", kaže Antonucci, dodajući kako na brodu ima oženjenih ljudi, bračnih parova, koji ne spavaju uvijek sa svojim supružnicima.Itinerer se planira dvije do tri godine unaprijed, a u pripremanju sudjeluju stanovnici i kapetan broda. Od lansiranja 2002. godine, The World je plovio svim morima i oceanima, zaustavljajući se u više od 1000 luka u 120 zemalja svijeta. Tijekom 2023. godine kruzer je uplovio i u Šibenik, a 2018. u Rijeku. Iako većina stanovnika broda želi ostati anonimna, tada se pisalo da apartmane na The Worldu imaju i neke poznate osobe, poput Arnolda Schwarzeneggera i Madonne.Na pitanje zašto se superbogataši radije odlučuju za plovidbu brodom za koji itinerer izglasava komisija umjesto da kupe ili unajme superjahtu i sami plove svijetom, Antonucci ima spreman odgovor. \"O, pa na to je pitanje lako odgovoriti. Mnogi ljudi na brodu imaju i vlastite jahte. Ja sam nautičar cijeli svoj život. Razlog zašto biste radije otišli na The World je što se u tom slučaju ne morate baviti zapošljavanjem posade, smišljanjem gdje kupiti gorivo i ispisivanjem čekova za svaku sitnicu. Svake godine samo popunite jedan veliki debeli ček. I sve je sređeno\", zaključuje Antonucci.'"
     },
     "execution_count": 7,
     "metadata": {},
     "output_type": "execute_result"
    }
   ],
   "source": [
    "article.text.replace(\"\\n\", \"\")"
   ],
   "metadata": {
    "collapsed": false
   }
  },
  {
   "cell_type": "code",
   "execution_count": null,
   "outputs": [],
   "source": [],
   "metadata": {
    "collapsed": false
   }
  }
 ],
 "metadata": {
  "kernelspec": {
   "display_name": "Python 3",
   "language": "python",
   "name": "python3"
  },
  "language_info": {
   "codemirror_mode": {
    "name": "ipython",
    "version": 2
   },
   "file_extension": ".py",
   "mimetype": "text/x-python",
   "name": "python",
   "nbconvert_exporter": "python",
   "pygments_lexer": "ipython2",
   "version": "2.7.6"
  }
 },
 "nbformat": 4,
 "nbformat_minor": 0
}
