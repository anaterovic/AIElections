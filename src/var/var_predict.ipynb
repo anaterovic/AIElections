{
 "cells": [
  {
   "cell_type": "code",
   "execution_count": 1,
   "metadata": {},
   "outputs": [],
   "source": [
    "import matplotlib.pyplot as plt\n",
    "from modules.var_commons import *"
   ]
  },
  {
   "cell_type": "code",
   "execution_count": 15,
   "metadata": {},
   "outputs": [
    {
     "name": "stdout",
     "output_type": "stream",
     "text": [
      "<statsmodels.tsa.vector_ar.var_model.LagOrderResults object. Selected orders are: AIC -> 2, BIC -> 0, FPE -> 2, HQIC ->  0>\n",
      "Using 2 based on aic criterion\n",
      "MSE: 8.57029882453771\n",
      "Actual:      HDZ   SDP  MOST   DP  MOZEMO\n",
      "46  30.4  20.5   6.7  8.5     8.0\n",
      "Predicted:     HDZforecast  SDPforecast  MOSTforecast  DPforecast  MOZEMOforecast\n",
      "46    30.358691     25.74477      8.689713   10.129428       10.954349\n"
     ]
    },
    {
     "name": "stderr",
     "output_type": "stream",
     "text": [
      "C:\\Users\\dsmoljan\\Desktop\\AI izbori\\parlametrika\\venv\\Lib\\site-packages\\statsmodels\\tsa\\base\\tsa_model.py:473: ValueWarning: An unsupported index was provided and will be ignored when e.g. forecasting.\n",
      "  self._init_dates(dates, freq)\n"
     ]
    }
   ],
   "source": [
    "mdata = pd.read_csv('../../data/monthly-time-series/full_data_weighted_senti.csv')\n",
    "mdata = mdata.drop('year_month', axis=1)\n",
    "\n",
    "mse, df_forecast, actual, predicted = perform_var_analysis(mdata, max_lags=2, test_size=1)\n",
    "print(f'MSE: {mse}')\n",
    "print(f'Actual: {actual}')\n",
    "print(f'Predicted: {predicted}')"
   ]
  },
  {
   "cell_type": "code",
   "execution_count": 12,
   "metadata": {},
   "outputs": [
    {
     "data": {
      "text/plain": "46    11.080662\nName: NEODLUCNIforecast, dtype: float64"
     },
     "execution_count": 12,
     "metadata": {},
     "output_type": "execute_result"
    }
   ],
   "source": [
    "df_forecast['NEODLUCNIforecast']"
   ]
  },
  {
   "cell_type": "code",
   "execution_count": 10,
   "metadata": {},
   "outputs": [
    {
     "name": "stdout",
     "output_type": "stream",
     "text": [
      "HDZ: 34.35\n",
      "SDP: 30.0777\n",
      "MOST: 8.785738575697406\n",
      "DP: 10.46019698659503\n",
      "Mozemo: 11.318098518104303\n",
      "Izlaznost: 60.87\n"
     ]
    }
   ],
   "source": [
    "hdz = 30.35\n",
    "sdp = 25.7477\n",
    "most = 8.5\n",
    "dp = 10.12\n",
    "mozemo = 10.95\n",
    "neodlucni = 11.08\n",
    "\n",
    "suma = hdz + sdp + most + dp + mozemo + neodlucni\n",
    "suma\n",
    "\n",
    "hdz += 4.0\n",
    "sdp += 4.33\n",
    "\n",
    "# increase each proportionally such that the sum is 100, except for hdz and sdp\n",
    "most = most / suma * 100\n",
    "dp = dp / suma * 100\n",
    "mozemo = mozemo / suma * 100\n",
    "\n",
    "izlaznost = 60.87\n",
    "\n",
    "print(f'HDZ: {hdz}')\n",
    "print(f'SDP: {sdp}')\n",
    "print(f'MOST: {most}')\n",
    "print(f'DP: {dp}')\n",
    "print(f'Mozemo: {mozemo}')\n",
    "print(f'Izlaznost: {izlaznost}')"
   ]
  },
  {
   "cell_type": "code",
   "execution_count": null,
   "metadata": {},
   "outputs": [],
   "source": []
  }
 ],
 "metadata": {
  "kernelspec": {
   "display_name": "ai-izbori",
   "language": "python",
   "name": "python3"
  },
  "language_info": {
   "codemirror_mode": {
    "name": "ipython",
    "version": 3
   },
   "file_extension": ".py",
   "mimetype": "text/x-python",
   "name": "python",
   "nbconvert_exporter": "python",
   "pygments_lexer": "ipython3",
   "version": "3.10.13"
  }
 },
 "nbformat": 4,
 "nbformat_minor": 2
}
