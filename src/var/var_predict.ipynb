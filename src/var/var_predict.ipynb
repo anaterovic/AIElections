{
 "cells": [
  {
   "cell_type": "code",
   "execution_count": 1,
   "metadata": {},
   "outputs": [],
   "source": [
    "import matplotlib.pyplot as plt\n",
    "from modules.var_commons import *"
   ]
  },
  {
   "cell_type": "code",
   "execution_count": 2,
   "metadata": {},
   "outputs": [],
   "source": [
    "mdata = load_and_prepare_data('../data/monthly-time-series/AI-izbori_stranke_krace_v2_INFL.csv', keep_columns=['NEODLUCNI', 'INFLACIJA'])"
   ]
  },
  {
   "cell_type": "code",
   "execution_count": 6,
   "metadata": {},
   "outputs": [
    {
     "name": "stdout",
     "output_type": "stream",
     "text": [
      "<statsmodels.tsa.vector_ar.var_model.LagOrderResults object. Selected orders are: AIC -> 1, BIC -> 0, FPE -> 1, HQIC ->  0>\n",
      "Using 1 based on aic criterion\n",
      "MSE: 6.271408236334675\n",
      "Actual:              HDZ   SDP  MOST   DP  MOZEMO\n",
      "2024-04-01  30.4  20.5   6.7  8.5     8.0\n",
      "Predicted:             HDZforecast  SDPforecast  MOSTforecast  DPforecast  MOZEMOforecast\n",
      "2024-04-01    32.104495    25.518598      7.893998    8.885656        9.300406\n"
     ]
    },
    {
     "name": "stderr",
     "output_type": "stream",
     "text": [
      "/home/tin/miniconda3/envs/ai-izbori/lib/python3.10/site-packages/statsmodels/tsa/base/tsa_model.py:473: ValueWarning: No frequency information was provided, so inferred frequency MS will be used.\n",
      "  self._init_dates(dates, freq)\n"
     ]
    }
   ],
   "source": [
    "mdata = load_and_prepare_data('/home/tin/Documents/ai-izbori/parlametrika/data/monthly-time-series/AI-izbori_stranke_krace_v3_NOMINALNA_NETO_PLACA.csv', keep_columns=['NEODLUCNI', 'INFLACIJA'])\n",
    "\n",
    "mse, df_forecast, actual, predicted = perform_var_analysis(mdata, max_lags=1, test_size=1)\n",
    "print(f'MSE: {mse}')\n",
    "print(f'Actual: {actual}')\n",
    "print(f'Predicted: {predicted}')"
   ]
  },
  {
   "cell_type": "code",
   "execution_count": 7,
   "metadata": {},
   "outputs": [
    {
     "data": {
      "text/plain": [
       "2024-04-01    10.237343\n",
       "Name: NEODLUCNIforecast, dtype: float64"
      ]
     },
     "execution_count": 7,
     "metadata": {},
     "output_type": "execute_result"
    }
   ],
   "source": [
    "df_forecast['NEODLUCNIforecast']"
   ]
  },
  {
   "cell_type": "code",
   "execution_count": 13,
   "metadata": {},
   "outputs": [
    {
     "name": "stdout",
     "output_type": "stream",
     "text": [
      "HDZ: 34.4\n",
      "SDP: 24.83\n",
      "MOST: 7.639680729760548\n",
      "DP: 9.692132269099202\n",
      "Mozemo: 9.122006841505133\n",
      "Izlaznost: 60.87\n"
     ]
    }
   ],
   "source": [
    "hdz = 30.4\n",
    "sdp = 20.5\n",
    "most = 6.7\n",
    "dp = 8.5\n",
    "mozemo = 8.0\n",
    "neodlucni = 13.6\n",
    "\n",
    "suma = hdz + sdp + most + dp + mozemo + neodlucni\n",
    "suma\n",
    "\n",
    "hdz += 4.0\n",
    "sdp += 4.33\n",
    "\n",
    "# increase each proportionally such that the sum is 100, except for hdz and sdp\n",
    "most = most / suma * 100\n",
    "dp = dp / suma * 100\n",
    "mozemo = mozemo / suma * 100\n",
    "\n",
    "izlaznost = 60.87\n",
    "\n",
    "print(f'HDZ: {hdz}')\n",
    "print(f'SDP: {sdp}')\n",
    "print(f'MOST: {most}')\n",
    "print(f'DP: {dp}')\n",
    "print(f'Mozemo: {mozemo}')\n",
    "print(f'Izlaznost: {izlaznost}')"
   ]
  },
  {
   "cell_type": "code",
   "execution_count": null,
   "metadata": {},
   "outputs": [],
   "source": []
  }
 ],
 "metadata": {
  "kernelspec": {
   "display_name": "ai-izbori",
   "language": "python",
   "name": "python3"
  },
  "language_info": {
   "codemirror_mode": {
    "name": "ipython",
    "version": 3
   },
   "file_extension": ".py",
   "mimetype": "text/x-python",
   "name": "python",
   "nbconvert_exporter": "python",
   "pygments_lexer": "ipython3",
   "version": "3.10.13"
  }
 },
 "nbformat": 4,
 "nbformat_minor": 2
}
