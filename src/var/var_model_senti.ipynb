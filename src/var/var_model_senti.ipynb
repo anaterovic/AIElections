{
 "cells": [
  {
   "cell_type": "code",
   "execution_count": 1,
   "metadata": {},
   "outputs": [],
   "source": [
    "import matplotlib.pyplot as plt\n",
    "from modules.var_commons import *"
   ]
  },
  {
   "cell_type": "code",
   "execution_count": 2,
   "metadata": {},
   "outputs": [
    {
     "data": {
      "text/plain": "Index(['HDZ_senti', 'SDP_senti', 'MOZEMO_senti', 'DP_senti', 'MOST_senti',\n       'HDZ', 'SDP', 'MOST', 'DP', 'MOZEMO', 'NEODLUCNI', 'INFLACIJA'],\n      dtype='object')"
     },
     "execution_count": 2,
     "metadata": {},
     "output_type": "execute_result"
    }
   ],
   "source": [
    "mdata = pd.read_csv('../../data/monthly-time-series/full_data_weighted_senti_16.csv')\n",
    "mdata = mdata.drop('year_month', axis=1)\n",
    "mdata.columns"
   ]
  },
  {
   "cell_type": "code",
   "execution_count": 3,
   "metadata": {},
   "outputs": [],
   "source": [
    "# perform_adf_test(mdata)"
   ]
  },
  {
   "cell_type": "code",
   "execution_count": 4,
   "metadata": {},
   "outputs": [
    {
     "data": {
      "text/plain": "    HDZ_senti  SDP_senti  MOZEMO_senti  DP_senti  MOST_senti   HDZ   SDP  \\\n41   0.135886   0.042491      0.030290  0.049222   -0.013462  29.5  12.6   \n42  -0.195105   0.051706      0.024130  0.017580   -0.115822  28.2  12.9   \n43   0.087348  -0.010058     -0.010588  0.056644   -0.071466  29.1  13.5   \n44  -0.174319   0.038493      0.085510  0.041518   -0.007149  28.7  13.9   \n45  -0.190959   0.286900      0.152675  0.052122    0.028598  30.4  20.5   \n\n    MOST   DP  MOZEMO  NEODLUCNI  INFLACIJA  \n41   8.1  7.9     7.9       18.0        4.7  \n42   7.5  8.4     6.8       19.7        4.5  \n43   6.7  7.6     6.6       18.6        4.1  \n44   7.0  6.9     7.6       18.1        3.8  \n45   6.7  8.5     8.0       13.6        4.9  ",
      "text/html": "<div>\n<style scoped>\n    .dataframe tbody tr th:only-of-type {\n        vertical-align: middle;\n    }\n\n    .dataframe tbody tr th {\n        vertical-align: top;\n    }\n\n    .dataframe thead th {\n        text-align: right;\n    }\n</style>\n<table border=\"1\" class=\"dataframe\">\n  <thead>\n    <tr style=\"text-align: right;\">\n      <th></th>\n      <th>HDZ_senti</th>\n      <th>SDP_senti</th>\n      <th>MOZEMO_senti</th>\n      <th>DP_senti</th>\n      <th>MOST_senti</th>\n      <th>HDZ</th>\n      <th>SDP</th>\n      <th>MOST</th>\n      <th>DP</th>\n      <th>MOZEMO</th>\n      <th>NEODLUCNI</th>\n      <th>INFLACIJA</th>\n    </tr>\n  </thead>\n  <tbody>\n    <tr>\n      <th>41</th>\n      <td>0.135886</td>\n      <td>0.042491</td>\n      <td>0.030290</td>\n      <td>0.049222</td>\n      <td>-0.013462</td>\n      <td>29.5</td>\n      <td>12.6</td>\n      <td>8.1</td>\n      <td>7.9</td>\n      <td>7.9</td>\n      <td>18.0</td>\n      <td>4.7</td>\n    </tr>\n    <tr>\n      <th>42</th>\n      <td>-0.195105</td>\n      <td>0.051706</td>\n      <td>0.024130</td>\n      <td>0.017580</td>\n      <td>-0.115822</td>\n      <td>28.2</td>\n      <td>12.9</td>\n      <td>7.5</td>\n      <td>8.4</td>\n      <td>6.8</td>\n      <td>19.7</td>\n      <td>4.5</td>\n    </tr>\n    <tr>\n      <th>43</th>\n      <td>0.087348</td>\n      <td>-0.010058</td>\n      <td>-0.010588</td>\n      <td>0.056644</td>\n      <td>-0.071466</td>\n      <td>29.1</td>\n      <td>13.5</td>\n      <td>6.7</td>\n      <td>7.6</td>\n      <td>6.6</td>\n      <td>18.6</td>\n      <td>4.1</td>\n    </tr>\n    <tr>\n      <th>44</th>\n      <td>-0.174319</td>\n      <td>0.038493</td>\n      <td>0.085510</td>\n      <td>0.041518</td>\n      <td>-0.007149</td>\n      <td>28.7</td>\n      <td>13.9</td>\n      <td>7.0</td>\n      <td>6.9</td>\n      <td>7.6</td>\n      <td>18.1</td>\n      <td>3.8</td>\n    </tr>\n    <tr>\n      <th>45</th>\n      <td>-0.190959</td>\n      <td>0.286900</td>\n      <td>0.152675</td>\n      <td>0.052122</td>\n      <td>0.028598</td>\n      <td>30.4</td>\n      <td>20.5</td>\n      <td>6.7</td>\n      <td>8.5</td>\n      <td>8.0</td>\n      <td>13.6</td>\n      <td>4.9</td>\n    </tr>\n  </tbody>\n</table>\n</div>"
     },
     "execution_count": 4,
     "metadata": {},
     "output_type": "execute_result"
    }
   ],
   "source": [
    "mdata.tail()"
   ]
  },
  {
   "cell_type": "code",
   "execution_count": 5,
   "metadata": {
    "collapsed": false
   },
   "outputs": [],
   "source": [
    "# find_optimal_model_params(mdata, max_order=4)"
   ]
  },
  {
   "cell_type": "code",
   "execution_count": null,
   "metadata": {
    "pycharm": {
     "is_executing": true
    }
   },
   "outputs": [
    {
     "name": "stderr",
     "output_type": "stream",
     "text": [
      "C:\\Users\\dsmoljan\\Desktop\\AI izbori\\parlametrika\\venv\\Lib\\site-packages\\statsmodels\\tsa\\base\\tsa_model.py:473: ValueWarning: An unsupported index was provided and will be ignored when e.g. forecasting.\n",
      "  self._init_dates(dates, freq)\n"
     ]
    },
    {
     "name": "stdout",
     "output_type": "stream",
     "text": [
      "<statsmodels.tsa.vector_ar.var_model.LagOrderResults object. Selected orders are: AIC -> 4, BIC -> 0, FPE -> 4, HQIC ->  4>\n",
      "Using 4 based on aic criterion\n"
     ]
    }
   ],
   "source": [
    "endogeneous_columns = [\"HDZ\", \"SDP\", \"MOST\", \"DP\", \"MOZEMO\", \"NEODLUCNI\"]\n",
    "mse = perform_var_using_test_set(mdata=mdata, max_lags=3, test_set_size=4, endogeneous_columns=endogeneous_columns)\n",
    "print(f'Total MSE: {mse}')"
   ]
  },
  {
   "cell_type": "code",
   "execution_count": null,
   "metadata": {},
   "outputs": [],
   "source": [
    "mdata = pd.read_csv('../../data/monthly-time-series/full_data_weighted_senti_16.csv')\n",
    "mdata = mdata.drop('year_month', axis=1)\n",
    "\n",
    "mse, df_forecast, actual, predicted = perform_var_analysis(mdata, max_lags=3, test_size=1, endogeneous_columns=endogeneous_columns)\n",
    "print(f'MSE: {mse}')\n",
    "print(f'Actual: {actual}')\n",
    "print(f'Predicted: {predicted}')"
   ]
  },
  {
   "cell_type": "code",
   "execution_count": null,
   "metadata": {},
   "outputs": [],
   "source": [
    "parties = [\"HDZ\", \"SDP\", \"MOST\", \"DP\", \"MOZEMO\"]\n",
    "\n",
    "plt.figure(figsize=(12, 6))\n",
    "\n",
    "# Plot the actual values for each column in parties\n",
    "plt.plot(mdata.index, mdata['HDZ'], label=f'HDZ', color='blue')\n",
    "plt.plot(mdata.index, mdata['SDP'], label=f'SDP', color='red')\n",
    "plt.plot(mdata.index, mdata['MOST'], label=f'MOST', color='darkorange')\n",
    "plt.plot(mdata.index, mdata['DP'], label=f'DP', color='black')\n",
    "plt.plot(mdata.index, mdata['MOZEMO'], label=f'MOZEMO', color='green')\n",
    "\n",
    "\n",
    "# Plot the predicted values for each column in parties as a single dot for each party\n",
    "plt.scatter(df_forecast.index, df_forecast['HDZforecast'], color='blue', s=20)\n",
    "plt.scatter(df_forecast.index, df_forecast['SDPforecast'], color='red', s=20)\n",
    "plt.scatter(df_forecast.index, df_forecast['MOSTforecast'], color='darkorange', s=20)\n",
    "plt.scatter(df_forecast.index, df_forecast['DPforecast'], color='black', s=20)\n",
    "plt.scatter(df_forecast.index, df_forecast['MOZEMOforecast'], color='green', s=20)\n",
    "\n",
    "# Set the x-axis label\n",
    "plt.xlabel('Date')\n",
    "\n",
    "# Set the y-axis label\n",
    "plt.ylabel('Percentage')\n",
    "\n",
    "# Add a legend below the plot, all in one row, with thick lines\n",
    "plt.legend(loc='upper center', ncol=5, fancybox=True, shadow=True, bbox_to_anchor=(0.5, -0.1), fontsize='small')\n",
    "\n",
    "# add y labels on both sides\n",
    "plt.tick_params(axis='y', which='both', labelleft=True, labelright=True)\n",
    "\n",
    "# add y ticks on the right side\n",
    "plt.tick_params(axis='y', which='both', right=True)\n",
    "\n",
    "# Show the plot\n",
    "plt.show()\n"
   ]
  },
  {
   "cell_type": "code",
   "execution_count": null,
   "metadata": {},
   "outputs": [],
   "source": []
  }
 ],
 "metadata": {
  "kernelspec": {
   "display_name": "ai-izbori",
   "language": "python",
   "name": "python3"
  },
  "language_info": {
   "codemirror_mode": {
    "name": "ipython",
    "version": 3
   },
   "file_extension": ".py",
   "mimetype": "text/x-python",
   "name": "python",
   "nbconvert_exporter": "python",
   "pygments_lexer": "ipython3",
   "version": "3.10.13"
  }
 },
 "nbformat": 4,
 "nbformat_minor": 2
}
